{
 "cells": [
  {
   "cell_type": "code",
   "execution_count": null,
   "id": "7d0fd6ca",
   "metadata": {},
   "outputs": [],
   "source": []
  },
  {
   "cell_type": "code",
   "execution_count": 6,
   "id": "3526c06e",
   "metadata": {},
   "outputs": [
    {
     "name": "stdout",
     "output_type": "stream",
     "text": [
      "Enter your marks 76\n"
     ]
    }
   ],
   "source": [
    "marks = int(input(\"Enter your marks \"))"
   ]
  },
  {
   "cell_type": "code",
   "execution_count": 8,
   "id": "c46095a3",
   "metadata": {},
   "outputs": [
    {
     "name": "stdout",
     "output_type": "stream",
     "text": [
      "Enter your marks 38\n",
      "you will be part of A4 batch\n"
     ]
    }
   ],
   "source": [
    "marks = int(input(\"Enter your marks \"))\n",
    "if marks >= 80:\n",
    "    print(\"you will be part of A1 batch \")\n",
    "\n",
    "elif marks >= 60 and marks <80:\n",
    "    print(\"you will be part of A2 batch\")\n",
    "    \n",
    "elif marks >= 40 and marks <60:\n",
    "    print(\"you will be part of A3 batch \")\n",
    "    \n",
    "else :\n",
    "    print(\"you will be part of A4 batch\")"
   ]
  },
  {
   "cell_type": "code",
   "execution_count": 12,
   "id": "2ce8825a",
   "metadata": {},
   "outputs": [
    {
     "name": "stdout",
     "output_type": "stream",
     "text": [
      "Enter your marks 120\n",
      "This is not valid marks\n"
     ]
    }
   ],
   "source": [
    "marks = int(input(\"Enter your marks \"))\n",
    "if marks > 100:\n",
    "    print(\"This is not valid marks\" )\n",
    "    \n",
    "else :\n",
    "    if marks >= 80:\n",
    "        print(\"you will be part of A1 batch \")\n",
    "\n",
    "    elif marks >= 60 and marks <80:\n",
    "        print(\"you will be part of A2 batch\")\n",
    "    \n",
    "    elif marks >= 40 and marks <60:\n",
    "        print(\"you will be part of A3 batch \")\n",
    "    \n",
    "    else :\n",
    "        print(\"you will be part of A4 batch\")"
   ]
  },
  {
   "cell_type": "code",
   "execution_count": 16,
   "id": "cfa03101",
   "metadata": {},
   "outputs": [
    {
     "name": "stdout",
     "output_type": "stream",
     "text": [
      "you will be part of A4 batch \n"
     ]
    }
   ],
   "source": [
    "marks = 39\n",
    "if marks >= 80 :\n",
    "    print(\"you will be part of A1 batch \" )\n",
    "elif marks >= 60 and marks < 80:\n",
    "    print(\"you will be part of A2 batch \")\n",
    "elif marks >= 40 and marks < 60 :\n",
    "    print(\"you will be part of A3 batch \")\n",
    "else :\n",
    "    print(\"you will be part of A4 batch \")"
   ]
  },
  {
   "cell_type": "code",
   "execution_count": 18,
   "id": "c484ab80",
   "metadata": {},
   "outputs": [
    {
     "name": "stdout",
     "output_type": "stream",
     "text": [
      "Enter number of orders dispatch 90\n",
      "Need manpower for orders proccessing\n"
     ]
    }
   ],
   "source": [
    "orders = int(input(\"Enter number of orders dispatch \"))\n",
    "if orders >= 250 :\n",
    "    print(\"Super work \")\n",
    "elif orders >= 200 and orders < 250:\n",
    "    print(\"Check how many orders are pending \")\n",
    "elif orders >= 100 and orders < 200:\n",
    "    print(\"Focus on your work\")\n",
    "else :\n",
    "    print(\"Need manpower for orders proccessing\")\n",
    "    "
   ]
  },
  {
   "cell_type": "code",
   "execution_count": 20,
   "id": "8d40635b",
   "metadata": {},
   "outputs": [
    {
     "name": "stdout",
     "output_type": "stream",
     "text": [
      "Enter your price 1200\n",
      "I will not purchase \n"
     ]
    }
   ],
   "source": [
    "price = int(input(\"Enter your price \"))\n",
    "if price > 1000 :\n",
    "    print(\"I will not purchase \")\n",
    "elif price < 1000:\n",
    "    print(\"I will purchase \")\n",
    "else :\n",
    "    print(\"I will decide purchase or not\")"
   ]
  },
  {
   "cell_type": "code",
   "execution_count": 30,
   "id": "4dd27e7a",
   "metadata": {},
   "outputs": [
    {
     "name": "stdout",
     "output_type": "stream",
     "text": [
      "Enter price 560\n",
      "I will purchase\n"
     ]
    }
   ],
   "source": [
    "price = int(input(\"Enter price \"))\n",
    "if price > 1000:\n",
    "    print(\"I will not purchase \")\n",
    "    if price > 5000:\n",
    "        print(\"This is too much \")\n",
    "    elif price < 2000:\n",
    "        print(\"Its ok \")\n",
    "    \n",
    "elif price < 1000 or price >500:\n",
    "    print(\"I will purchase\")\n",
    "else :\n",
    "        print(\"Not interested \")"
   ]
  },
  {
   "cell_type": "code",
   "execution_count": 28,
   "id": "d61e0455",
   "metadata": {},
   "outputs": [
    {
     "name": "stdout",
     "output_type": "stream",
     "text": [
      "enter price 560\n",
      "i will purchase\n"
     ]
    }
   ],
   "source": [
    "price = int(input(\"enter price \" ))\n",
    "if price > 1000:\n",
    "    print(\"i will not purchase\")\n",
    "    if price >5000:\n",
    "        print(\"this is too much \")\n",
    "    elif price < 2000 : \n",
    "        print(\"its ok\")\n",
    "elif price < 1000 or price > 500 :\n",
    "    print(\"i will purchase\")\n",
    "else :\n",
    "    print(\"not interested \")"
   ]
  },
  {
   "cell_type": "code",
   "execution_count": 35,
   "id": "d5be9fb4",
   "metadata": {},
   "outputs": [
    {
     "name": "stdout",
     "output_type": "stream",
     "text": [
      "Enter first number: 8\n",
      "Enter second number: 9\n",
      "Enter third number: 10\n",
      "10.0 is the largest number\n"
     ]
    }
   ],
   "source": [
    "num1 = float(input(\"Enter first number: \"))\n",
    "num2 = float(input(\"Enter second number: \"))\n",
    "num3 = float(input(\"Enter third number: \"))\n",
    "\n",
    "if num1 > num2 and num1 > num3:\n",
    "    print(num1, \"is the largest number\")\n",
    "elif num2 > num1 and num2 > num3:\n",
    "    print(num2, \"is the largest number\")\n",
    "else:\n",
    "    print(num3, \"is the largest number\")"
   ]
  },
  {
   "cell_type": "markdown",
   "id": "0de2a857",
   "metadata": {},
   "source": [
    " # Checking if a number is positive, negative, or zero using if-else statements."
   ]
  },
  {
   "cell_type": "code",
   "execution_count": 37,
   "id": "cff12cba",
   "metadata": {},
   "outputs": [
    {
     "name": "stdout",
     "output_type": "stream",
     "text": [
      "Enter a number: 6\n",
      "The number is positive.\n"
     ]
    }
   ],
   "source": [
    "num = float(input(\"Enter a number: \"))\n",
    "\n",
    "if num > 0:\n",
    "    print(\"The number is positive.\")\n",
    "elif num < 0:\n",
    "    print(\"The number is negative.\")\n",
    "else:\n",
    "    print(\"The number is zero.\")\n"
   ]
  },
  {
   "cell_type": "markdown",
   "id": "bf970397",
   "metadata": {},
   "source": [
    "# Checking if a number is even or odd using if-else statements."
   ]
  },
  {
   "cell_type": "code",
   "execution_count": 41,
   "id": "cbd71d9f",
   "metadata": {},
   "outputs": [
    {
     "name": "stdout",
     "output_type": "stream",
     "text": [
      "Enter a number: 4\n",
      "The number is even.\n"
     ]
    }
   ],
   "source": [
    "num = int(input(\"Enter a number: \"))\n",
    "\n",
    "if num % 2 == 0:\n",
    "    print(\"The number is even.\")\n",
    "else:\n",
    "    print(\"The number is odd.\")\n"
   ]
  },
  {
   "cell_type": "code",
   "execution_count": 42,
   "id": "7be43f18",
   "metadata": {},
   "outputs": [
    {
     "name": "stdout",
     "output_type": "stream",
     "text": [
      "Enter a number: 7\n",
      "The number is odd.\n"
     ]
    }
   ],
   "source": [
    "num = int(input(\"Enter a number: \"))\n",
    "\n",
    "if num % 2 == 0:\n",
    "    print(\"The number is even.\")\n",
    "else:\n",
    "    print(\"The number is odd.\")\n"
   ]
  },
  {
   "cell_type": "markdown",
   "id": "b80c58de",
   "metadata": {},
   "source": [
    "Q1 Write a program to accept percentage from the user and display the grade according to the following criteria: \n",
    "Marks \n",
    "Grade \n",
    ">90 \n",
    "A \n",
    ">80 and <=90 \n",
    "B \n",
    ">=60 and <=80 \n",
    "C \n",
    "below 60 \n",
    "D "
   ]
  },
  {
   "cell_type": "code",
   "execution_count": 33,
   "id": "240355dd",
   "metadata": {},
   "outputs": [
    {
     "name": "stdout",
     "output_type": "stream",
     "text": [
      "Enter your percentage85\n",
      "Grade B \n"
     ]
    }
   ],
   "source": [
    "marks = int(input(\"Enter your percentage\"))\n",
    "\n",
    "if marks >= 90:\n",
    "    print(\"Grade A \")\n",
    "elif marks >= 80 and marks <90:\n",
    "    print(\"Grade B \")\n",
    "elif marks >= 60 and marks <80:\n",
    "    print(\"Grade C \")\n",
    "    \n",
    "else :\n",
    "    print(\"Grade D \")"
   ]
  },
  {
   "cell_type": "code",
   "execution_count": 34,
   "id": "3d2de584",
   "metadata": {},
   "outputs": [
    {
     "name": "stdout",
     "output_type": "stream",
     "text": [
      "Enter your percentage: 79\n",
      "Your grade is: C\n"
     ]
    }
   ],
   "source": [
    "marks = float(input(\"Enter your percentage: \"))\n",
    "\n",
    "if marks >= 90:\n",
    "    grade = \"A\"\n",
    "elif marks > 80 and marks <= 90:\n",
    "    grade = \"B\"\n",
    "elif marks >= 60 and marks <= 80:\n",
    "    grade = \"C\"\n",
    "elif marks < 60:\n",
    "    grade = \"D\"\n",
    "\n",
    "print(\"Your grade is:\", grade)"
   ]
  },
  {
   "cell_type": "markdown",
   "id": "dbf1d30b",
   "metadata": {},
   "source": [
    "Q2  Write a program to accept the cost price of a bike and display the road tax to be paid according to the \n",
    "following criteria: \n",
    "Tax Cost Price(in Rs) \n",
    "\n",
    "15% >100000 \n",
    "10% >50000 and <= 100000 \n",
    "5% <= 50000 "
   ]
  },
  {
   "cell_type": "code",
   "execution_count": 43,
   "id": "10ccdb0f",
   "metadata": {},
   "outputs": [
    {
     "name": "stdout",
     "output_type": "stream",
     "text": [
      "Enter the cost price of the bike: 100000\n",
      "The road tax to be paid is: 10000.0\n"
     ]
    }
   ],
   "source": [
    "def calculate_road_tax(cost_price):\n",
    "    if cost_price > 100000:\n",
    "        tax = 0.15 * cost_price\n",
    "    elif cost_price <= 100000 and cost_price > 50000:\n",
    "        tax = 0.1 * cost_price\n",
    "    else:\n",
    "        tax = 0.05 * cost_price\n",
    "    return tax\n",
    "\n",
    "cost_price = float(input(\"Enter the cost price of the bike: \"))\n",
    "tax = calculate_road_tax(cost_price)\n",
    "print(\"The road tax to be paid is:\", tax)\n"
   ]
  },
  {
   "cell_type": "code",
   "execution_count": 5,
   "id": "e7af6110",
   "metadata": {},
   "outputs": [
    {
     "name": "stdout",
     "output_type": "stream",
     "text": [
      "you will be part of A5 batch\n"
     ]
    }
   ],
   "source": [
    "marks = 25\n",
    "if marks >= 80:\n",
    "    print(\"you will be part of A1 batch\")\n",
    "elif marks >= 60 and marks <80:\n",
    "    print(\"you will be part of A2 batch\")\n",
    "elif marks >= 40 and marks < 60:\n",
    "    Print(\"you will be part of A3 batch\")\n",
    "elif marks >= 30 and marks < 40:\n",
    "    print(\"you will be part of A4 batch\")\n",
    "else :\n",
    "    print(\"you will be part of A5 batch\")"
   ]
  },
  {
   "cell_type": "code",
   "execution_count": 3,
   "id": "a4097ec5",
   "metadata": {},
   "outputs": [
    {
     "name": "stdout",
     "output_type": "stream",
     "text": [
      "Enter your marks200\n",
      "This not valid marks\n"
     ]
    }
   ],
   "source": [
    "marks = int(input(\"Enter your marks\"))\n",
    "\n",
    "if marks > 100 :\n",
    "    print(\"This not valid marks\")\n",
    "else :\n",
    "    if marks >= 80 :\n",
    "        print(\"You will be part of A1 batch\")\n",
    "    elif marks >= 60 and marks <80 :\n",
    "        print(\"You be part of B1 batch\")\n",
    "    elif marks >= 40 and marks < 60:\n",
    "        print(\"You will be part of C1 batch\")\n",
    "        \n",
    "    else:\n",
    "        print(\"You will be part of D1 batch\")\n",
    "     "
   ]
  },
  {
   "cell_type": "markdown",
   "id": "3cdbd38a",
   "metadata": {},
   "source": [
    "# Q3. Accept any city from the user and display monuments of that city. \n",
    "City  - Monument\n",
    "\n",
    "Delhi  -    Red Fort \n",
    " \n",
    "Agra   -     Taj Mahal\n",
    "\n",
    "Jaipur  -   Jal Mahal\n",
    "\n",
    " "
   ]
  },
  {
   "cell_type": "code",
   "execution_count": 6,
   "id": "854e691c",
   "metadata": {},
   "outputs": [
    {
     "name": "stdout",
     "output_type": "stream",
     "text": [
      "Enter the name of the citydelhi\n",
      "Monument of delhi : Red Fort\n"
     ]
    }
   ],
   "source": [
    "def monuments_of_city(city):\n",
    "    if city == \"delhi\":\n",
    "        return \"Red Fort\"\n",
    "    elif city == \"Agra\":\n",
    "        return \"Tal Mahal\"\n",
    "    elif city == \"jaipur\":\n",
    "        return \"Jal Mahal\"\n",
    "    else :\n",
    "        return \"Unknown city\"\n",
    "    \n",
    "    \n",
    "city = input(\"Enter the name of the city\")\n",
    "monument = monuments_of_city(city)\n",
    "print(\"Monument of\", city, \":\", monument)"
   ]
  },
  {
   "cell_type": "code",
   "execution_count": 7,
   "id": "d6ad5f5b",
   "metadata": {},
   "outputs": [
    {
     "name": "stdout",
     "output_type": "stream",
     "text": [
      "Enter the name of the city Kolkata\n",
      "shahid minar\n"
     ]
    }
   ],
   "source": [
    "city = input(\"Enter the name of the city \")\n",
    "if city == \"delhi\":\n",
    "    print(\"Red Fort\")\n",
    "if city == \"Agra\":\n",
    "    print(\"Taj Mahal\")\n",
    "if city == \"jaipur\":\n",
    "    print(\"Jal Mahal\")\n",
    "if city == \"Kolkata\":\n",
    "    print(\"shahid minar\")\n",
    "else :\n",
    "    print(\"Unknown city\")\n",
    "  \n"
   ]
  },
  {
   "cell_type": "markdown",
   "id": "235de7c0",
   "metadata": {},
   "source": [
    "# Checking if a year is a leap year using if-else statements."
   ]
  },
  {
   "cell_type": "code",
   "execution_count": 10,
   "id": "99c8fb57",
   "metadata": {},
   "outputs": [
    {
     "name": "stdout",
     "output_type": "stream",
     "text": [
      "Enter a year: 2024\n",
      "The year is a leap year.\n"
     ]
    }
   ],
   "source": [
    "year = int(input(\"Enter a year: \"))\n",
    "\n",
    "if year % 4 == 0 and (year % 100 != 0 or year % 400 == 0):\n",
    "    print(\"The year is a leap year.\")\n",
    "else:\n",
    "    print(\"The year is not a leap year.\")\n"
   ]
  },
  {
   "cell_type": "markdown",
   "id": "1e4923c9",
   "metadata": {},
   "source": [
    "# Checking if a person is eligible to vote based on their age using if-else statements.\n"
   ]
  },
  {
   "cell_type": "code",
   "execution_count": 11,
   "id": "534a16b1",
   "metadata": {},
   "outputs": [
    {
     "name": "stdout",
     "output_type": "stream",
     "text": [
      "Enter your age: 16\n",
      "You are not eligible to vote.\n"
     ]
    }
   ],
   "source": [
    "age = int(input(\"Enter your age: \"))\n",
    "\n",
    "if age >= 18:\n",
    "    print(\"You are eligible to vote.\")\n",
    "else:\n",
    "    print(\"You are not eligible to vote.\")\n"
   ]
  },
  {
   "cell_type": "markdown",
   "id": "fe62005c",
   "metadata": {},
   "source": [
    "# Checking if a password is strong enough using if-else statements.\n"
   ]
  },
  {
   "cell_type": "code",
   "execution_count": 12,
   "id": "1d39b63a",
   "metadata": {},
   "outputs": [
    {
     "name": "stdout",
     "output_type": "stream",
     "text": [
      "Enter a password: Mithun#199\n",
      "The password is strong.\n"
     ]
    }
   ],
   "source": [
    "password = input(\"Enter a password: \")\n",
    "\n",
    "if len(password) >= 8 and any(char.isdigit() for char in password) and any(char.isupper() for char in password):\n",
    "    print(\"The password is strong.\")\n",
    "else:\n",
    "    print(\"The password is not strong.\")\n"
   ]
  },
  {
   "cell_type": "markdown",
   "id": "9ab89171",
   "metadata": {},
   "source": [
    "# Checking if a given string is a palindrome using if-else statements.\n"
   ]
  },
  {
   "cell_type": "code",
   "execution_count": 2,
   "id": "b769432d",
   "metadata": {},
   "outputs": [
    {
     "name": "stdout",
     "output_type": "stream",
     "text": [
      "Enter your string manoj\n",
      "The string is not a palindrome\n"
     ]
    }
   ],
   "source": [
    "string = input(\"Enter your string \")\n",
    "\n",
    "if string == string[::-1]:\n",
    "    print(\"The string is a palindrome\")\n",
    "else :\n",
    "    print(\"The string is not a palindrome\")\n"
   ]
  },
  {
   "cell_type": "markdown",
   "id": "df25b726",
   "metadata": {},
   "source": [
    "# Converting a temperature from Fahrenheit to Celsius or vice versa using if-else statements.\n"
   ]
  },
  {
   "cell_type": "code",
   "execution_count": 6,
   "id": "8de471f9",
   "metadata": {},
   "outputs": [
    {
     "name": "stdout",
     "output_type": "stream",
     "text": [
      "Enter the temperature : 50\n",
      "Enter the unit (F & C): F\n",
      "The temperature in Celsius is: 10.0 C\n"
     ]
    }
   ],
   "source": [
    "temp = float(input(\"Enter the temperature : \"))\n",
    "unit = input(\"Enter the unit (F & C): \")\n",
    "\n",
    "if unit == \"F\":\n",
    "    celsius = (temp -32) * 5/9\n",
    "    print(\"The temperature in Celsius is:\", celsius, \"C\")\n",
    "    \n",
    "elif unit == \"C\":\n",
    "    fahrenhit = temp * 9/5 + 32\n",
    "    print(\"The temperature in Fahrenheit is:\", fahrenhiet, \"F\")\n",
    "    \n",
    "else:\n",
    "    print(\"Inalid unit\")"
   ]
  },
  {
   "cell_type": "code",
   "execution_count": 9,
   "id": "37220868",
   "metadata": {},
   "outputs": [
    {
     "name": "stdout",
     "output_type": "stream",
     "text": [
      "Enter the temperature: 20\n",
      "Enter the unit (F or C): C\n",
      "The temperature in Fahrenheit is: 68.0 F\n"
     ]
    }
   ],
   "source": [
    "temp = float(input(\"Enter the temperature: \"))\n",
    "unit = input(\"Enter the unit (F or C): \")\n",
    "\n",
    "if unit == \"F\":\n",
    "    celsius = (temp - 32) * 5/9\n",
    "    print(\"The temperature in Celsius is:\", celsius, \"C\")\n",
    "elif unit == \"C\":\n",
    "    fahrenheit = temp * 9/5 + 32\n",
    "    print(\"The temperature in Fahrenheit is:\", fahrenheit, \"F\")\n",
    "else:\n",
    "    print(\"Invalid unit.\")\n"
   ]
  },
  {
   "cell_type": "markdown",
   "id": "a261ae9b",
   "metadata": {},
   "source": [
    "# Finding the maximum of three numbers using if-else statements."
   ]
  },
  {
   "cell_type": "code",
   "execution_count": 10,
   "id": "1a33827e",
   "metadata": {},
   "outputs": [
    {
     "name": "stdout",
     "output_type": "stream",
     "text": [
      "Enter the first number: 56\n",
      "Enter the second number: 45\n",
      "Enter the third number: 90\n",
      "The maximum number is: 90\n"
     ]
    }
   ],
   "source": [
    "a = int(input(\"Enter the first number: \"))\n",
    "b = int(input(\"Enter the second number: \"))\n",
    "c = int(input(\"Enter the third number: \"))\n",
    "\n",
    "if a > b:\n",
    "    if a > c:\n",
    "        print(\"The maximum number is:\", a)\n",
    "    else:\n",
    "        print(\"The maximum number is:\", c)\n",
    "else:\n",
    "    if b > c:\n",
    "        print(\"The maximum number is:\", b)\n",
    "    else:\n",
    "        print(\"The maximum number is:\", c)\n"
   ]
  },
  {
   "cell_type": "markdown",
   "id": "0bbfb837",
   "metadata": {},
   "source": [
    "# Implementing a simple calculator that performs addition, subtraction, multiplication, and division based on user input using if-else statements."
   ]
  },
  {
   "cell_type": "code",
   "execution_count": 11,
   "id": "182da1d3",
   "metadata": {},
   "outputs": [
    {
     "name": "stdout",
     "output_type": "stream",
     "text": [
      "Enter the first number: 70\n",
      "Enter the second number: 56\n",
      "Enter the operator (+, -, *, /): +\n",
      "The result is: 126.0\n"
     ]
    }
   ],
   "source": [
    "num1 = float(input(\"Enter the first number: \"))\n",
    "num2 = float(input(\"Enter the second number: \"))\n",
    "operator = input(\"Enter the operator (+, -, *, /): \")\n",
    "\n",
    "if operator == \"+\":\n",
    "    result = num1 + num2\n",
    "elif operator == \"-\":\n",
    "    result = num1 - num2\n",
    "elif operator == \"*\":\n",
    "    result = num1 * num2\n",
    "elif operator == \"/\":\n",
    "    if num2 == 0:\n",
    "        print(\"Division by zero is not allowed.\")\n",
    "    else:\n",
    "        result = num1 / num2\n",
    "else:\n",
    "    print(\"Invalid operator.\")\n",
    "\n",
    "if \"result\" in locals():\n",
    "    print(\"The result is:\", result)\n"
   ]
  },
  {
   "cell_type": "markdown",
   "id": "733133d8",
   "metadata": {},
   "source": []
  }
 ],
 "metadata": {
  "kernelspec": {
   "display_name": "Python 3 (ipykernel)",
   "language": "python",
   "name": "python3"
  },
  "language_info": {
   "codemirror_mode": {
    "name": "ipython",
    "version": 3
   },
   "file_extension": ".py",
   "mimetype": "text/x-python",
   "name": "python",
   "nbconvert_exporter": "python",
   "pygments_lexer": "ipython3",
   "version": "3.9.7"
  }
 },
 "nbformat": 4,
 "nbformat_minor": 5
}
